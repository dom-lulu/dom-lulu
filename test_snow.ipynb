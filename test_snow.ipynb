{
 "cells": [
  {
   "cell_type": "code",
   "execution_count": 1,
   "source": [
    "# Required libraries\r\n",
    "\r\n",
    "import pandas as  pd\r\n",
    "from datetime import date \r\n",
    "import pyodbc"
   ],
   "outputs": [],
   "metadata": {}
  },
  {
   "cell_type": "code",
   "execution_count": 2,
   "source": [
    "def connect_snowflake(\r\n",
    "        user, \r\n",
    "        server='lululemon_martech_replication.east-us-2.azure.snowflakecomputing.com',\r\n",
    "        role='SNOWFLAKE-LLL.MARTECH.GUEST_ANALYTICS_DB.DEVELOPER',\r\n",
    "        warehouse='GUEST_ANALYTICS_S_DW',\r\n",
    "        database='GUEST_ANALYTICS_DB',\r\n",
    "        schema = 'TEMP_SCH'):\r\n",
    "\r\n",
    "    \"\"\"\r\n",
    "\r\n",
    "    What: \r\n",
    "        Establish connection with a Snowflake instance\r\n",
    "\r\n",
    "    Args:\r\n",
    "        user (str): lululemon's user name\r\n",
    "        server (str, optional): Server URL. Defaults to 'lululemon_martech_replication.east-us-2.azure.snowflakecomputing.com'.\r\n",
    "        role (str, optional): Role used to connect to Snowflake. Defaults to 'SNOWFLAKE-LLL.MARTECH.GUEST_ANALYTICS_DB.DEVELOPER'.\r\n",
    "        warehouse (str, optional): Warehouse name. Defaults to 'GUEST_ANALYTICS_S_DW'.\r\n",
    "        database (str, optional): Database name. Defaults to 'GUEST_ANALYTICS_DB'.\r\n",
    "        schema (str, optional): Schema name. Defaults to 'TEMP_SCH'.\r\n",
    "\r\n",
    "    Returns:\r\n",
    "        pyodbc.Connection: SQL connections\r\n",
    "\r\n",
    "    \"\"\"\r\n",
    "\r\n",
    "    if user is None:\r\n",
    "        print('Error: Snowflake user must be defined.')\r\n",
    "        return False\r\n",
    "\r\n",
    "    driver = '{SnowflakeDSIIDriver}'\r\n",
    "    authenticator = 'externalbrowser'\r\n",
    "\r\n",
    "    conn = pyodbc.connect (\r\n",
    "        'DRIVER='+driver+\r\n",
    "        ';SERVER='+server+\r\n",
    "        ';ROLE='+role+\r\n",
    "        ';WAREHOUSE='+warehouse+\r\n",
    "        ';DATABASE='+database+\r\n",
    "        ';SCHEMA='+schema+\r\n",
    "        ';UID='+user+\r\n",
    "        ';AUTHENTICATOR='+authenticator\r\n",
    "\r\n",
    "    )\r\n",
    "\r\n",
    "    return conn"
   ],
   "outputs": [],
   "metadata": {}
  },
  {
   "cell_type": "code",
   "execution_count": 3,
   "source": [
    "connect_snowflake(\"dfayad@lululemon.com\")"
   ],
   "outputs": [
    {
     "output_type": "execute_result",
     "data": {
      "text/plain": [
       "<pyodbc.Connection at 0x17a6c2ea2a0>"
      ]
     },
     "metadata": {},
     "execution_count": 3
    }
   ],
   "metadata": {}
  },
  {
   "cell_type": "code",
   "execution_count": null,
   "source": [
    "# SQL Query\r\n",
    "sql=(\"\"\"SELECT * FROM MARTECH_DB.NA_ANALYTICS_SCH.FACT_TXN_DETAIL LIMIT 10;\"\"\")\r\n",
    "\r\n",
    "#If you want to read data then use pd.read_sql\r\n",
    "df=pd.read_sql(sql,conn)\r\n",
    "\r\n",
    "#If you just want to execute a query then use conn.execute. This can be for creating temp tables\r\n",
    "conn.execute(sql)"
   ],
   "outputs": [],
   "metadata": {}
  },
  {
   "cell_type": "code",
   "execution_count": null,
   "source": [],
   "outputs": [],
   "metadata": {}
  }
 ],
 "metadata": {
  "orig_nbformat": 4,
  "language_info": {
   "name": "python",
   "version": "3.8.5",
   "mimetype": "text/x-python",
   "codemirror_mode": {
    "name": "ipython",
    "version": 3
   },
   "pygments_lexer": "ipython3",
   "nbconvert_exporter": "python",
   "file_extension": ".py"
  },
  "kernelspec": {
   "name": "python3",
   "display_name": "Python 3.8.5 64-bit ('base': conda)"
  },
  "interpreter": {
   "hash": "4ba962433ce634cde499a2def155867a3065a4841db75053b162653b9c20e813"
  }
 },
 "nbformat": 4,
 "nbformat_minor": 2
}